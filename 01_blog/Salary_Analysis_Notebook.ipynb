{
 "cells": [
  {
   "cell_type": "markdown",
   "metadata": {},
   "source": [
    "# DATA SCIENCE BLOG POST"
   ]
  },
  {
   "cell_type": "markdown",
   "metadata": {},
   "source": [
    "The objective of this project is to analyze a dataset using the CRISP-DM method. The CRISP-DM includes the following steps:"
   ]
  },
  {
   "cell_type": "code",
   "execution_count": 1,
   "metadata": {},
   "outputs": [],
   "source": [
    "#import what is needed to display images\n",
    "from IPython.display import Image"
   ]
  },
  {
   "cell_type": "markdown",
   "metadata": {},
   "source": [
    "<img src='image.png' alt='CRISP-DM' style='width: 300px;'/>"
   ]
  },
  {
   "cell_type": "markdown",
   "metadata": {},
   "source": [
    "I decided to analyze jobs data from Stack Overflow. This is an interesting dataset because individual salary data can be difficult to obtain. Using this dataset I can potentially use it to better understand issues related to salary. One issue that comes to mind is the gender pay gap. Women are often paid less than men, with statistics indicating that it can be as low as 81%. This particular space of the workforce also has a disproportionately low number of women, with some estimates showing female participation in tech jobs as low as 26%.  Because of these two reasons, I want to analyze the gender pay gap using this data to identify if there is a gender pay gap and see if there are specific spaces where pay gaps are more pronounced. "
   ]
  },
  {
   "cell_type": "markdown",
   "metadata": {},
   "source": [
    "## Business Understanding\n",
    "The first step in the data analytics process is business understanding. This requires analysts to develop a better understaning of what issues they want to solve. This step is often associated with developing a specific question \n",
    "\n",
    "For this project, the primary question is:\n",
    "**_Are salaries equal between gender groups?_**\n",
    "\n",
    "Depending on what is containted in our data some other interestinig questions to ask:\n",
    "1. What are the salaries between genders when holding level of education constant?  \n",
    "2. What are the salaries between genders when holding age constant?"
   ]
  },
  {
   "cell_type": "markdown",
   "metadata": {},
   "source": [
    "## Data Understanding\n",
    "\n",
    "The next step is to get a better understanding of what data we need to answer our question and find our insights.\n",
    "\n",
    "Before looking at the dataset there are a few fields that are necessary to perform our analysis: Salary & Gender. \n",
    "\n",
    "\n",
    "Education and age would also be good to have if it is available.\n",
    "\n",
    "We can perform preliminary exploratory data analysis prior to data preparation."
   ]
  },
  {
   "cell_type": "code",
   "execution_count": 2,
   "metadata": {},
   "outputs": [],
   "source": [
    "# import libraries\n",
    "import pandas as pd\n",
    "import numpy as np\n",
    "import matplotlib.pyplot as plt\n",
    "import warnings; warnings.simplefilter('ignore') # get rid of simple warnings\n"
   ]
  },
  {
   "cell_type": "code",
   "execution_count": 3,
   "metadata": {},
   "outputs": [],
   "source": [
    "# read in the data\n",
    "data = pd.read_csv('./survey_results_public.csv')\n",
    "schema = pd.read_csv('./survey_results_schema.csv')"
   ]
  },
  {
   "cell_type": "code",
   "execution_count": 4,
   "metadata": {},
   "outputs": [
    {
     "data": {
      "text/plain": [
       "(88883, 85)"
      ]
     },
     "execution_count": 4,
     "metadata": {},
     "output_type": "execute_result"
    }
   ],
   "source": [
    "# how many rows and columns in the data?\n",
    "data.shape "
   ]
  },
  {
   "cell_type": "code",
   "execution_count": 5,
   "metadata": {},
   "outputs": [
    {
     "data": {
      "text/plain": [
       "Index(['Respondent', 'MainBranch', 'Hobbyist', 'OpenSourcer', 'OpenSource',\n",
       "       'Employment', 'Country', 'Student', 'EdLevel', 'UndergradMajor',\n",
       "       'EduOther', 'OrgSize', 'DevType', 'YearsCode', 'Age1stCode',\n",
       "       'YearsCodePro', 'CareerSat', 'JobSat', 'MgrIdiot', 'MgrMoney',\n",
       "       'MgrWant', 'JobSeek', 'LastHireDate', 'LastInt', 'FizzBuzz',\n",
       "       'JobFactors', 'ResumeUpdate', 'CurrencySymbol', 'CurrencyDesc',\n",
       "       'CompTotal', 'CompFreq', 'ConvertedComp', 'WorkWeekHrs', 'WorkPlan',\n",
       "       'WorkChallenge', 'WorkRemote', 'WorkLoc', 'ImpSyn', 'CodeRev',\n",
       "       'CodeRevHrs', 'UnitTests', 'PurchaseHow', 'PurchaseWhat',\n",
       "       'LanguageWorkedWith', 'LanguageDesireNextYear', 'DatabaseWorkedWith',\n",
       "       'DatabaseDesireNextYear', 'PlatformWorkedWith',\n",
       "       'PlatformDesireNextYear', 'WebFrameWorkedWith',\n",
       "       'WebFrameDesireNextYear', 'MiscTechWorkedWith',\n",
       "       'MiscTechDesireNextYear', 'DevEnviron', 'OpSys', 'Containers',\n",
       "       'BlockchainOrg', 'BlockchainIs', 'BetterLife', 'ITperson', 'OffOn',\n",
       "       'SocialMedia', 'Extraversion', 'ScreenName', 'SOVisit1st',\n",
       "       'SOVisitFreq', 'SOVisitTo', 'SOFindAnswer', 'SOTimeSaved',\n",
       "       'SOHowMuchTime', 'SOAccount', 'SOPartFreq', 'SOJobs', 'EntTeams',\n",
       "       'SOComm', 'WelcomeChange', 'SONewContent', 'Age', 'Gender', 'Trans',\n",
       "       'Sexuality', 'Ethnicity', 'Dependents', 'SurveyLength', 'SurveyEase'],\n",
       "      dtype='object')"
      ]
     },
     "execution_count": 5,
     "metadata": {},
     "output_type": "execute_result"
    }
   ],
   "source": [
    "data.columns"
   ]
  },
  {
   "cell_type": "markdown",
   "metadata": {},
   "source": [
    "After looking at the columns in the data and the data dicitonary, potential columns that could be used to answer our questions were identified:\n",
    "- Salary: 'ConvertedComp'\n",
    "- Gender: 'Gender'\n",
    "\n",
    "There also appear to be columns that can be used to answer our other two questions related to education and age:\n",
    "- Education: 'EdLevel'\n",
    "- Age: 'Age'"
   ]
  },
  {
   "cell_type": "markdown",
   "metadata": {},
   "source": [
    "The column for salary data is ConvertedComp. This column represents the total compensation provided by the respondent, but converted to the US dollar. Converting all salaries to the US dollar allows for better comparison using a uniform unit of measure. "
   ]
  },
  {
   "cell_type": "code",
   "execution_count": 6,
   "metadata": {},
   "outputs": [
    {
     "name": "stdout",
     "output_type": "stream",
     "text": [
      "<class 'pandas.core.frame.DataFrame'>\n",
      "RangeIndex: 88883 entries, 0 to 88882\n",
      "Data columns (total 4 columns):\n",
      " #   Column         Non-Null Count  Dtype  \n",
      "---  ------         --------------  -----  \n",
      " 0   ConvertedComp  55823 non-null  float64\n",
      " 1   Gender         85406 non-null  object \n",
      " 2   Age            79210 non-null  float64\n",
      " 3   EdLevel        86390 non-null  object \n",
      "dtypes: float64(2), object(2)\n",
      "memory usage: 2.7+ MB\n"
     ]
    }
   ],
   "source": [
    "# columns of interest and some basic info\n",
    "cols = ['ConvertedComp', 'Gender', 'Age', 'EdLevel']\n",
    "data[cols].info()"
   ]
  },
  {
   "cell_type": "code",
   "execution_count": 7,
   "metadata": {},
   "outputs": [
    {
     "name": "stdout",
     "output_type": "stream",
     "text": [
      "Proportion of null values in the ConvertedComp column: 0.372\n",
      "\n"
     ]
    },
    {
     "data": {
      "image/png": "[encoded data removed]",
      "text/plain": [
       "<Figure size 432x288 with 1 Axes>"
      ]
     },
     "metadata": {
      "needs_background": "light"
     },
     "output_type": "display_data"
    },
    {
     "name": "stdout",
     "output_type": "stream",
     "text": [
      "\n",
      "count      55823.000000\n",
      "mean      127110.738423\n",
      "std       284152.303842\n",
      "min            0.000000\n",
      "25%        25777.500000\n",
      "50%        57287.000000\n",
      "75%       100000.000000\n",
      "max      2000000.000000\n",
      "Name: ConvertedComp, dtype: object\n",
      "\n",
      "Proportion of null values in the Gender column: 0.039\n",
      "\n",
      "                                              Gender  Count  Proportion\n",
      "0                                                Man  77919    0.912336\n",
      "1                                              Woman   6344    0.074280\n",
      "2  Non-binary, genderqueer, or gender non-conforming    597    0.006990\n",
      "3  Man;Non-binary, genderqueer, or gender non-con...    181    0.002119\n",
      "4  Woman;Non-binary, genderqueer, or gender non-c...    163    0.001909\n",
      "5                                          Woman;Man    132    0.001546\n",
      "6  Woman;Man;Non-binary, genderqueer, or gender n...     70    0.000820\n",
      "Proportion of null values in the Age column: 0.109\n",
      "\n"
     ]
    },
    {
     "data": {
      "image/png": "[encoded data removed]",
      "text/plain": [
       "<Figure size 432x288 with 1 Axes>"
      ]
     },
     "metadata": {
      "needs_background": "light"
     },
     "output_type": "display_data"
    },
    {
     "name": "stdout",
     "output_type": "stream",
     "text": [
      "\n",
      "count    79210.000000\n",
      "mean        30.336699\n",
      "std          9.178390\n",
      "min          1.000000\n",
      "25%         24.000000\n",
      "50%         29.000000\n",
      "75%         35.000000\n",
      "max         99.000000\n",
      "Name: Age, dtype: object\n",
      "\n",
      "Proportion of null values in the EdLevel column: 0.028\n",
      "\n",
      "                                             EdLevel  Count  Proportion\n",
      "0           Bachelor’s degree (BA, BS, B.Eng., etc.)  39134    0.452992\n",
      "1        Master’s degree (MA, MS, M.Eng., MBA, etc.)  19569    0.226519\n",
      "2  Some college/university study without earning ...  10502    0.121565\n",
      "3  Secondary school (e.g. American high school, G...   8642    0.100035\n",
      "4                                   Associate degree   2938    0.034009\n",
      "5          Other doctoral degree (Ph.D, Ed.D., etc.)   2432    0.028151\n",
      "6                          Primary/elementary school   1422    0.016460\n",
      "7                 Professional degree (JD, MD, etc.)   1198    0.013867\n",
      "8             I never completed any formal education    553    0.006401\n"
     ]
    }
   ],
   "source": [
    "# for each column see proportion of nulls and summary statistics\n",
    "# summary statistics different for numeric and object columns\n",
    "for col in cols:\n",
    "    print('Proportion of null values in the {} column: {}'\\\n",
    "          .format(col,round((data[col].isnull().sum() / len(data.index)), 3)))\n",
    "    print()\n",
    "    if data[col].dtype == object:\n",
    "        test = data[col].value_counts()\\\n",
    "            .rename_axis(col).reset_index(name = 'Count')\n",
    "        test['Proportion'] = data[col].value_counts(normalize = 'True').values\n",
    "        print(test)\n",
    "    else:\n",
    "        plt.hist(data[col], bins =5)\n",
    "        plt.title(col)\n",
    "        plt.show()\n",
    "        print()\n",
    "        print(data[col].describe().apply(lambda x: format(x, 'f')))\n",
    "        print()"
   ]
  },
  {
   "cell_type": "markdown",
   "metadata": {},
   "source": [
    "## Data Preparation\n",
    "\n",
    "After taking a look at the initial summary statistics, there are some data preparation steps that will be performed:\n",
    "1. Drop nulls in salary column\n",
    " - Salaries are the main focus of this analysis and only respondents with actual values for salary should be analyzed. Shouldn't try to impute using ML techniques or averages, nor should nulls be given a default value. Since this is basically our target variable, we shoudn't be altering it and should only be analyzing provided salaries.\n",
    "2. Group genders that aren't man or woman.\n",
    " - Most of the data concentraed in 'Man' and 'Woman', so for the purpose of this analysis will group the remaining genders and classify them as 'Other'\n",
    "3. Most of the data for workers in the United States, so for the sake of this only will include United States workers so that differences in country culture and relative pay can be eliminated."
   ]
  },
  {
   "cell_type": "code",
   "execution_count": 8,
   "metadata": {},
   "outputs": [
    {
     "name": "stdout",
     "output_type": "stream",
     "text": [
      "                                              Gender  Count  Proportion\n",
      "0                                                Man  50503    0.920026\n",
      "1                                              Woman   3762    0.068533\n",
      "2  Non-binary, genderqueer, or gender non-conforming    342    0.006230\n",
      "3  Man;Non-binary, genderqueer, or gender non-con...    115    0.002095\n",
      "4  Woman;Non-binary, genderqueer, or gender non-c...    106    0.001931\n",
      "5                                          Woman;Man     40    0.000729\n",
      "6  Woman;Man;Non-binary, genderqueer, or gender n...     25    0.000455\n",
      "\n",
      "                                              Gender  Count  Proportion\n",
      "0                                                Man  27416    0.898502\n",
      "1                                              Woman   2582    0.084620\n",
      "2  Non-binary, genderqueer, or gender non-conforming    255    0.008357\n",
      "3                                          Woman;Man     92    0.003015\n",
      "4  Man;Non-binary, genderqueer, or gender non-con...     66    0.002163\n",
      "5  Woman;Non-binary, genderqueer, or gender non-c...     57    0.001868\n",
      "6  Woman;Man;Non-binary, genderqueer, or gender n...     45    0.001475\n"
     ]
    }
   ],
   "source": [
    "# drop nulls in salary column\n",
    "# however, first look at breakdown of genders for just the nulls\n",
    "# maybe more women have null salaries and do not want to report? coud\n",
    "# this indicate something about culture of knowing someone's salary\n",
    "test = data[data['ConvertedComp'].isnull() == False]['Gender'].value_counts()\\\n",
    "            .rename_axis('Gender').reset_index(name = 'Count')\n",
    "test['Proportion'] = data[data['ConvertedComp'].isnull() == False]\\\n",
    "    ['Gender'].value_counts(normalize = 'True').values\n",
    "print(test)\n",
    "print()\n",
    "\n",
    "test = data[data['ConvertedComp'].isnull() == True]['Gender'].value_counts()\\\n",
    "            .rename_axis('Gender').reset_index(name = 'Count')\n",
    "test['Proportion'] = data[data['ConvertedComp'].isnull() == True]\\\n",
    "    ['Gender'].value_counts(normalize = 'True').values\n",
    "print(test)"
   ]
  },
  {
   "cell_type": "markdown",
   "metadata": {},
   "source": [
    "Looks like the proportion of each gender for the reported salary group and not reported salary groups are the same. The Null values don't appear to represent anything significant at this time, so will drop rows that have null values in the Salary column. "
   ]
  },
  {
   "cell_type": "code",
   "execution_count": 9,
   "metadata": {},
   "outputs": [
    {
     "data": {
      "text/plain": [
       "0.0"
      ]
     },
     "execution_count": 9,
     "metadata": {},
     "output_type": "execute_result"
    }
   ],
   "source": [
    "# drop rows where ConvetedComp is NaN\n",
    "data = data.dropna(subset = ['ConvertedComp'])\n",
    "\n",
    "# verify no nulls. should be 0\n",
    "round((data['ConvertedComp'].isnull().sum() / len(data.index)), 3)"
   ]
  },
  {
   "cell_type": "markdown",
   "metadata": {},
   "source": [
    "Next, the gender column will be grouped into 'Man', 'Woman', and 'Other' due to the relatively small number of people who responded with genders other than 'Man' and 'Woman'"
   ]
  },
  {
   "cell_type": "code",
   "execution_count": 10,
   "metadata": {},
   "outputs": [],
   "source": [
    "# group other gender columns together\n",
    "gender_list = ['Man', 'Woman']\n",
    "data['Gender'] = np.where(data['Gender']\\\n",
    "                .isin(gender_list), data['Gender'], 'Other')"
   ]
  },
  {
   "cell_type": "code",
   "execution_count": 11,
   "metadata": {},
   "outputs": [
    {
     "data": {
      "text/plain": [
       "Man      50503\n",
       "Woman     3762\n",
       "Other     1558\n",
       "Name: Gender, dtype: int64"
      ]
     },
     "execution_count": 11,
     "metadata": {},
     "output_type": "execute_result"
    }
   ],
   "source": [
    "# verify ended up with 3 columns\n",
    "data['Gender'].value_counts()"
   ]
  },
  {
   "cell_type": "markdown",
   "metadata": {},
   "source": [
    "Finally, the dataframe will be filtered so only workers in the United States will be included for this analysis."
   ]
  },
  {
   "cell_type": "code",
   "execution_count": 12,
   "metadata": {},
   "outputs": [],
   "source": [
    "# filter dataframe to only include respodnents who work in the us\n",
    "data = data[data['Country'] == 'United States']"
   ]
  },
  {
   "cell_type": "code",
   "execution_count": 13,
   "metadata": {},
   "outputs": [
    {
     "data": {
      "text/plain": [
       "United States    14981\n",
       "Name: Country, dtype: int64"
      ]
     },
     "execution_count": 13,
     "metadata": {},
     "output_type": "execute_result"
    }
   ],
   "source": [
    "# verify only US remaining\n",
    "data['Country'].value_counts()"
   ]
  },
  {
   "cell_type": "markdown",
   "metadata": {},
   "source": [
    "There are 14,941 rows remaining in the data. This is still a good amount of data to analyze and answer our questions.\n",
    "\n",
    "Note: Duplicates were not removed due to the possibility of having people with the same characteristics and no way of having a true way to identify if two respondents were the same person. "
   ]
  },
  {
   "cell_type": "code",
   "execution_count": null,
   "metadata": {},
   "outputs": [],
   "source": []
  },
  {
   "cell_type": "markdown",
   "metadata": {},
   "source": [
    "## Model and Evaluate\n",
    "\n",
    "These two steps will be combined. Modeling occurs when we use the wrangled data to answer our business questions. The following were the questions asked earlier in this notebook:\n",
    "1. Are men and women being paid equally?\n",
    "2. What are the salaries between men and women when holding level of education constant?  \n",
    "3. What are the salaries between men and women when holding age constant?\n",
    "\n",
    "\n",
    "Modeling often times refers to creating a machine learning model for prediction, but in this case we can create data visualizations like charts and tables instead. These visualizations can be used to answer these questions and evaluate the outcomes.\n"
   ]
  },
  {
   "cell_type": "markdown",
   "metadata": {},
   "source": [
    "#### Question 1: Are men and women being paid equally?"
   ]
  },
  {
   "cell_type": "code",
   "execution_count": 14,
   "metadata": {},
   "outputs": [
    {
     "data": {
      "image/png": "[encoded data removed]",
      "text/plain": [
       "<Figure size 432x288 with 1 Axes>"
      ]
     },
     "metadata": {
      "needs_background": "light"
     },
     "output_type": "display_data"
    },
    {
     "data": {
      "text/html": [
       "<div>\n",
       "<style scoped>\n",
       "    .dataframe tbody tr th:only-of-type {\n",
       "        vertical-align: middle;\n",
       "    }\n",
       "\n",
       "    .dataframe tbody tr th {\n",
       "        vertical-align: top;\n",
       "    }\n",
       "\n",
       "    .dataframe thead th {\n",
       "        text-align: right;\n",
       "    }\n",
       "</style>\n",
       "<table border=\"1\" class=\"dataframe\">\n",
       "  <thead>\n",
       "    <tr style=\"text-align: right;\">\n",
       "      <th></th>\n",
       "      <th>Gender</th>\n",
       "      <th>ConvertedComp</th>\n",
       "      <th>% of Men Salary</th>\n",
       "      <th>Count</th>\n",
       "    </tr>\n",
       "  </thead>\n",
       "  <tbody>\n",
       "    <tr>\n",
       "      <th>0</th>\n",
       "      <td>Man</td>\n",
       "      <td>$114,000</td>\n",
       "      <td>100%</td>\n",
       "      <td>12,985</td>\n",
       "    </tr>\n",
       "    <tr>\n",
       "      <th>1</th>\n",
       "      <td>Other</td>\n",
       "      <td>$110,500</td>\n",
       "      <td>97%</td>\n",
       "      <td>544</td>\n",
       "    </tr>\n",
       "    <tr>\n",
       "      <th>2</th>\n",
       "      <td>Woman</td>\n",
       "      <td>$99,700</td>\n",
       "      <td>87%</td>\n",
       "      <td>1,452</td>\n",
       "    </tr>\n",
       "  </tbody>\n",
       "</table>\n",
       "</div>"
      ],
      "text/plain": [
       "  Gender ConvertedComp % of Men Salary   Count\n",
       "0    Man      $114,000            100%  12,985\n",
       "1  Other      $110,500             97%     544\n",
       "2  Woman       $99,700             87%   1,452"
      ]
     },
     "execution_count": 14,
     "metadata": {},
     "output_type": "execute_result"
    }
   ],
   "source": [
    "# get ConvertedComp medians grouped by gender\n",
    "q1 = data.groupby(by = 'Gender').median().drop(['Respondent', \\\n",
    "            'CompTotal', 'WorkWeekHrs', 'WorkWeekHrs', 'Age', 'CodeRevHrs'], axis = 1)\n",
    "\n",
    "# get gender count\n",
    "count_array = data['Gender'].value_counts().values\n",
    "gender_count = [count_array[0], count_array[2], count_array[1]]\n",
    "gender_count\n",
    "\n",
    "# get median salaries to \n",
    "men_median_sal = q1['ConvertedComp'][0]\n",
    "other_median_sal = q1['ConvertedComp'][1]\n",
    "woman_median_sal = q1['ConvertedComp'][2]\n",
    "\n",
    "q1['% of Men Salary'] = [men_median_sal/men_median_sal,\\\n",
    "                         other_median_sal/men_median_sal,\\\n",
    "                         woman_median_sal/men_median_sal]\n",
    "\n",
    "q1['Count'] = gender_count\n",
    "\n",
    "\n",
    "# create bar chart to show each gender's median salary\n",
    "plt.bar(q1.index, q1['ConvertedComp'], width=.75)\n",
    "plt.show()\n",
    "\n",
    "# format dataframe so it looks nicer\n",
    "q1['ConvertedComp'] = q1['ConvertedComp'].apply(lambda x: \"${:,.0f}\".format(x))\n",
    "q1['% of Men Salary'] = q1['% of Men Salary'].apply(lambda x: \"{:.0%}\".format(x))\n",
    "\n",
    "# show dataframe in nice format\n",
    "# format count with comma format\n",
    "q1['Count'] = q1['Count'].apply(lambda x: \"{:,.0f}\".format(x))\n",
    "q1.reset_index()"
   ]
  },
  {
   "cell_type": "markdown",
   "metadata": {},
   "source": [
    "#### Question 2: What are the salaries between genders when holding level of education constant?\n",
    "\n",
    "To answer this question, we should be able to compare salaries for each level of education, and within each level of education compare salaries for each of the 3 gender groups.\n",
    "\n",
    "First will look at all levels of education:"
   ]
  },
  {
   "cell_type": "code",
   "execution_count": 15,
   "metadata": {},
   "outputs": [
    {
     "data": {
      "image/png": "[encoded data removed]",
      "text/plain": [
       "<Figure size 432x288 with 1 Axes>"
      ]
     },
     "metadata": {
      "needs_background": "light"
     },
     "output_type": "display_data"
    },
    {
     "data": {
      "text/html": [
       "<div>\n",
       "<style scoped>\n",
       "    .dataframe tbody tr th:only-of-type {\n",
       "        vertical-align: middle;\n",
       "    }\n",
       "\n",
       "    .dataframe tbody tr th {\n",
       "        vertical-align: top;\n",
       "    }\n",
       "\n",
       "    .dataframe thead th {\n",
       "        text-align: right;\n",
       "    }\n",
       "</style>\n",
       "<table border=\"1\" class=\"dataframe\">\n",
       "  <thead>\n",
       "    <tr style=\"text-align: right;\">\n",
       "      <th></th>\n",
       "      <th>EdLevel</th>\n",
       "      <th>ConvertedComp</th>\n",
       "    </tr>\n",
       "  </thead>\n",
       "  <tbody>\n",
       "    <tr>\n",
       "      <th>0</th>\n",
       "      <td>Other doctoral degree (Ph.D, Ed.D., etc.)</td>\n",
       "      <td>$140,000</td>\n",
       "    </tr>\n",
       "    <tr>\n",
       "      <th>1</th>\n",
       "      <td>Master’s degree (MA, MS, M.Eng., MBA, etc.)</td>\n",
       "      <td>$125,000</td>\n",
       "    </tr>\n",
       "    <tr>\n",
       "      <th>2</th>\n",
       "      <td>I never completed any formal education</td>\n",
       "      <td>$123,500</td>\n",
       "    </tr>\n",
       "    <tr>\n",
       "      <th>3</th>\n",
       "      <td>Primary/elementary school</td>\n",
       "      <td>$120,000</td>\n",
       "    </tr>\n",
       "    <tr>\n",
       "      <th>4</th>\n",
       "      <td>Bachelor’s degree (BA, BS, B.Eng., etc.)</td>\n",
       "      <td>$110,000</td>\n",
       "    </tr>\n",
       "    <tr>\n",
       "      <th>5</th>\n",
       "      <td>Some college/university study without earning ...</td>\n",
       "      <td>$107,000</td>\n",
       "    </tr>\n",
       "    <tr>\n",
       "      <th>6</th>\n",
       "      <td>Professional degree (JD, MD, etc.)</td>\n",
       "      <td>$106,500</td>\n",
       "    </tr>\n",
       "    <tr>\n",
       "      <th>7</th>\n",
       "      <td>Secondary school (e.g. American high school, G...</td>\n",
       "      <td>$95,000</td>\n",
       "    </tr>\n",
       "    <tr>\n",
       "      <th>8</th>\n",
       "      <td>Associate degree</td>\n",
       "      <td>$90,000</td>\n",
       "    </tr>\n",
       "  </tbody>\n",
       "</table>\n",
       "</div>"
      ],
      "text/plain": [
       "                                             EdLevel ConvertedComp\n",
       "0          Other doctoral degree (Ph.D, Ed.D., etc.)      $140,000\n",
       "1        Master’s degree (MA, MS, M.Eng., MBA, etc.)      $125,000\n",
       "2             I never completed any formal education      $123,500\n",
       "3                          Primary/elementary school      $120,000\n",
       "4           Bachelor’s degree (BA, BS, B.Eng., etc.)      $110,000\n",
       "5  Some college/university study without earning ...      $107,000\n",
       "6                 Professional degree (JD, MD, etc.)      $106,500\n",
       "7  Secondary school (e.g. American high school, G...       $95,000\n",
       "8                                   Associate degree       $90,000"
      ]
     },
     "execution_count": 15,
     "metadata": {},
     "output_type": "execute_result"
    }
   ],
   "source": [
    "# get ConvertedComp medians grouped by gender\n",
    "q2 = data.groupby(by = 'EdLevel').median().drop(['Respondent', \\\n",
    "            'CompTotal', 'WorkWeekHrs', 'WorkWeekHrs', 'Age', 'CodeRevHrs'], axis = 1).\\\n",
    "            sort_values('ConvertedComp', ascending = False)\n",
    "\n",
    "# get median salaries to \n",
    "#men_median_sal = q1['ConvertedComp'][0]\n",
    "#other_median_sal = q1['ConvertedComp'][1]\n",
    "#woman_median_sal = q1['ConvertedComp'][2]\n",
    "\n",
    "plt.bar(q2.index, q2['ConvertedComp'], width=.75)\n",
    "plt.xticks(rotation = 90)\n",
    "plt.show()\n",
    "\n",
    "\\\n",
    "# format dataframe so it looks nicer\n",
    "q2['ConvertedComp'] = q2['ConvertedComp'].apply(lambda x: \"${:,.0f}\".format(x))\n",
    "\n",
    "# show dataframe in nice format\n",
    "q2.reset_index()"
   ]
  },
  {
   "cell_type": "markdown",
   "metadata": {},
   "source": [
    "Now look at each level of education and compare genders within each level:"
   ]
  },
  {
   "cell_type": "code",
   "execution_count": 16,
   "metadata": {},
   "outputs": [
    {
     "data": {
      "text/html": [
       "<div>\n",
       "<style scoped>\n",
       "    .dataframe tbody tr th:only-of-type {\n",
       "        vertical-align: middle;\n",
       "    }\n",
       "\n",
       "    .dataframe tbody tr th {\n",
       "        vertical-align: top;\n",
       "    }\n",
       "\n",
       "    .dataframe thead th {\n",
       "        text-align: right;\n",
       "    }\n",
       "</style>\n",
       "<table border=\"1\" class=\"dataframe\">\n",
       "  <thead>\n",
       "    <tr style=\"text-align: right;\">\n",
       "      <th></th>\n",
       "      <th>EdLevel</th>\n",
       "      <th>Men</th>\n",
       "      <th>Women</th>\n",
       "      <th>Other</th>\n",
       "      <th>Men Median Salary</th>\n",
       "      <th>Women Median Salary</th>\n",
       "      <th>Women Salary as % of Men</th>\n",
       "      <th>Other Median Salary</th>\n",
       "      <th>Other Salary as % of Men</th>\n",
       "    </tr>\n",
       "  </thead>\n",
       "  <tbody>\n",
       "    <tr>\n",
       "      <th>0</th>\n",
       "      <td>Bachelor’s degree (BA, BS, B.Eng., etc.)</td>\n",
       "      <td>7,603</td>\n",
       "      <td>895</td>\n",
       "      <td>895</td>\n",
       "      <td>$110,000</td>\n",
       "      <td>$100,000</td>\n",
       "      <td>91%</td>\n",
       "      <td>$107,000</td>\n",
       "      <td>97%</td>\n",
       "    </tr>\n",
       "    <tr>\n",
       "      <th>1</th>\n",
       "      <td>Master’s degree (MA, MS, M.Eng., MBA, etc.)</td>\n",
       "      <td>2,265</td>\n",
       "      <td>319</td>\n",
       "      <td>319</td>\n",
       "      <td>$130,000</td>\n",
       "      <td>$99,950</td>\n",
       "      <td>77%</td>\n",
       "      <td>$120,000</td>\n",
       "      <td>92%</td>\n",
       "    </tr>\n",
       "    <tr>\n",
       "      <th>2</th>\n",
       "      <td>Some college/university study without earning ...</td>\n",
       "      <td>1,613</td>\n",
       "      <td>107</td>\n",
       "      <td>107</td>\n",
       "      <td>$108,000</td>\n",
       "      <td>$95,000</td>\n",
       "      <td>88%</td>\n",
       "      <td>$103,000</td>\n",
       "      <td>95%</td>\n",
       "    </tr>\n",
       "    <tr>\n",
       "      <th>3</th>\n",
       "      <td>Associate degree</td>\n",
       "      <td>590</td>\n",
       "      <td>49</td>\n",
       "      <td>49</td>\n",
       "      <td>$93,500</td>\n",
       "      <td>$62,000</td>\n",
       "      <td>66%</td>\n",
       "      <td>$85,000</td>\n",
       "      <td>91%</td>\n",
       "    </tr>\n",
       "    <tr>\n",
       "      <th>4</th>\n",
       "      <td>Other doctoral degree (Ph.D, Ed.D., etc.)</td>\n",
       "      <td>405</td>\n",
       "      <td>46</td>\n",
       "      <td>46</td>\n",
       "      <td>$142,000</td>\n",
       "      <td>$132,500</td>\n",
       "      <td>93%</td>\n",
       "      <td>$140,000</td>\n",
       "      <td>99%</td>\n",
       "    </tr>\n",
       "    <tr>\n",
       "      <th>5</th>\n",
       "      <td>Secondary school (e.g. American high school, G...</td>\n",
       "      <td>299</td>\n",
       "      <td>14</td>\n",
       "      <td>14</td>\n",
       "      <td>$96,000</td>\n",
       "      <td>$71,000</td>\n",
       "      <td>74%</td>\n",
       "      <td>$105,000</td>\n",
       "      <td>109%</td>\n",
       "    </tr>\n",
       "    <tr>\n",
       "      <th>6</th>\n",
       "      <td>Professional degree (JD, MD, etc.)</td>\n",
       "      <td>61</td>\n",
       "      <td>7</td>\n",
       "      <td>7</td>\n",
       "      <td>$105,000</td>\n",
       "      <td>$88,000</td>\n",
       "      <td>84%</td>\n",
       "      <td>$1,000,000</td>\n",
       "      <td>952%</td>\n",
       "    </tr>\n",
       "    <tr>\n",
       "      <th>7</th>\n",
       "      <td>Primary/elementary school</td>\n",
       "      <td>43</td>\n",
       "      <td>2</td>\n",
       "      <td>2</td>\n",
       "      <td>$120,000</td>\n",
       "      <td>$435,000</td>\n",
       "      <td>362%</td>\n",
       "      <td>$90,000</td>\n",
       "      <td>75%</td>\n",
       "    </tr>\n",
       "    <tr>\n",
       "      <th>8</th>\n",
       "      <td>I never completed any formal education</td>\n",
       "      <td>41</td>\n",
       "      <td>3</td>\n",
       "      <td>3</td>\n",
       "      <td>$130,000</td>\n",
       "      <td>$90,000</td>\n",
       "      <td>69%</td>\n",
       "      <td>$10,000</td>\n",
       "      <td>8%</td>\n",
       "    </tr>\n",
       "  </tbody>\n",
       "</table>\n",
       "</div>"
      ],
      "text/plain": [
       "                                             EdLevel    Men Women Other  \\\n",
       "0           Bachelor’s degree (BA, BS, B.Eng., etc.)  7,603   895   895   \n",
       "1        Master’s degree (MA, MS, M.Eng., MBA, etc.)  2,265   319   319   \n",
       "2  Some college/university study without earning ...  1,613   107   107   \n",
       "3                                   Associate degree    590    49    49   \n",
       "4          Other doctoral degree (Ph.D, Ed.D., etc.)    405    46    46   \n",
       "5  Secondary school (e.g. American high school, G...    299    14    14   \n",
       "6                 Professional degree (JD, MD, etc.)     61     7     7   \n",
       "7                          Primary/elementary school     43     2     2   \n",
       "8             I never completed any formal education     41     3     3   \n",
       "\n",
       "  Men Median Salary Women Median Salary Women Salary as % of Men  \\\n",
       "0          $110,000            $100,000                      91%   \n",
       "1          $130,000             $99,950                      77%   \n",
       "2          $108,000             $95,000                      88%   \n",
       "3           $93,500             $62,000                      66%   \n",
       "4          $142,000            $132,500                      93%   \n",
       "5           $96,000             $71,000                      74%   \n",
       "6          $105,000             $88,000                      84%   \n",
       "7          $120,000            $435,000                     362%   \n",
       "8          $130,000             $90,000                      69%   \n",
       "\n",
       "  Other Median Salary Other Salary as % of Men  \n",
       "0            $107,000                      97%  \n",
       "1            $120,000                      92%  \n",
       "2            $103,000                      95%  \n",
       "3             $85,000                      91%  \n",
       "4            $140,000                      99%  \n",
       "5            $105,000                     109%  \n",
       "6          $1,000,000                     952%  \n",
       "7             $90,000                      75%  \n",
       "8             $10,000                       8%  "
      ]
     },
     "execution_count": 16,
     "metadata": {},
     "output_type": "execute_result"
    }
   ],
   "source": [
    "edlevel = data['EdLevel'].value_counts().\\\n",
    "                    rename_axis('EdLevel').\\\n",
    "                    reset_index(name = 'counts')['EdLevel']\n",
    "\n",
    "men_edlevel = []\n",
    "women_edlevel = []\n",
    "other_edlevel = []\n",
    "men_count_edlevel = []\n",
    "women_count_edlevel = []\n",
    "other_count_edlevel = []\n",
    "\n",
    "#calculate men salaries\n",
    "for i in edlevel:\n",
    "    men_edlevel.append(data[(data['EdLevel'] == i)\\\n",
    "            & (data['Gender'] == 'Man')]['ConvertedComp'].median())\n",
    "\n",
    "# calculate women salaries\n",
    "for i in edlevel:\n",
    "    women_edlevel.append(data[(data['EdLevel'] == i)\\\n",
    "            & (data['Gender'] == 'Woman')]['ConvertedComp'].median())\n",
    "    \n",
    "# calculate other salaries\n",
    "for i in edlevel:\n",
    "    other_edlevel.append(data[(data['EdLevel'] == i)\\\n",
    "            & (data['Gender'] == 'Other')]['ConvertedComp'].median())\n",
    "\n",
    "\n",
    "# calculate percent of women to men salaries\n",
    "percent = [w/m for w, m in zip(women_edlevel,men_edlevel)]\n",
    "other_percent = [o/m for o, m in zip(other_edlevel,men_edlevel)]\n",
    "\n",
    "#calculate man count\n",
    "for i in edlevel:\n",
    "    men_count_edlevel.append(data[(data['EdLevel'] == i)\\\n",
    "            & (data['Gender'] == 'Man')]['Gender'].count())\n",
    "\n",
    "# calculate woman count\n",
    "for i in edlevel:\n",
    "    women_count_edlevel.append(data[(data['EdLevel'] == i)\\\n",
    "            & (data['Gender'] == 'Woman')]['Gender'].count())\n",
    "\n",
    "# calculate other count\n",
    "for i in edlevel:\n",
    "    other_count_edlevel.append(data[(data['EdLevel'] == i)\\\n",
    "            & (data['Gender'] == 'Woman')]['Gender'].count())\n",
    "    \n",
    "# create a dictionary using lists that will be used for each column in dataframe\n",
    "dict_percent = {'EdLevel':edlevel, 'Men': men_count_edlevel, 'Women': women_count_edlevel,\\\n",
    "                'Other' : other_count_edlevel, 'Men Median Salary': men_edlevel, \\\n",
    "                'Women Median Salary' : women_edlevel, 'Women Salary as % of Men' : percent,\\\n",
    "                'Other Median Salary' : other_edlevel, 'Other Salary as % of Men': other_percent\n",
    "                }\n",
    "\n",
    "\n",
    "# create dataframe\n",
    "edlevel_df = pd.DataFrame(dict_percent)\n",
    "\n",
    "#format columns\n",
    "edlevel_df['Men Median Salary'] = edlevel_df['Men Median Salary'].apply(lambda x: \"${:,.0f}\".format(x))\n",
    "edlevel_df['Women Median Salary'] = edlevel_df['Women Median Salary'].apply(lambda x: \"${:,.0f}\".format(x))\n",
    "edlevel_df['Other Median Salary'] = edlevel_df['Other Median Salary'].apply(lambda x: \"${:,.0f}\".format(x))\n",
    "edlevel_df['Men'] = edlevel_df['Men'].apply(lambda x: \"{:,.0f}\".format(x))\n",
    "edlevel_df['Women'] = edlevel_df['Women'].apply(lambda x: \"{:,.0f}\".format(x))\n",
    "edlevel_df['Other'] = edlevel_df['Other'].apply(lambda x: \"{:,.0f}\".format(x))\n",
    "edlevel_df['Women Salary as % of Men'] = edlevel_df['Women Salary as % of Men'].apply(lambda x: \"{:.0%}\".format(x))\n",
    "edlevel_df['Other Salary as % of Men'] = edlevel_df['Other Salary as % of Men'].apply(lambda x: \"{:.0%}\".format(x))\n",
    "# see dataframe\n",
    "edlevel_df"
   ]
  },
  {
   "cell_type": "code",
   "execution_count": 27,
   "metadata": {},
   "outputs": [
    {
     "data": {
      "text/plain": [
       "0      $107,000\n",
       "1      $120,000\n",
       "2      $103,000\n",
       "3       $85,000\n",
       "4      $140,000\n",
       "5      $105,000\n",
       "6    $1,000,000\n",
       "7       $90,000\n",
       "8       $10,000\n",
       "Name: Other Median Salary, dtype: object"
      ]
     },
     "execution_count": 27,
     "metadata": {},
     "output_type": "execute_result"
    }
   ],
   "source": [
    "other_plt"
   ]
  },
  {
   "cell_type": "code",
   "execution_count": 36,
   "metadata": {},
   "outputs": [],
   "source": [
    "men_plt = edlevel_df['Men Median Salary']\n",
    "wmn_plt = edlevel_df['Women Median Salary']\n",
    "other_plt = edlevel_df['Other Median Salary']\n",
    "edlevel = edlevel_df['EdLevel'].tolist()\n",
    "\n",
    "# filter outlier in other category for visual\n",
    "other_plt = [num for num in other_plt if num != '$1,000,000']\n",
    "\n",
    "agg = list(zip(men_edlevel, women_edlevel, other_edlevel))\n",
    "edlevel_plt = pd.DataFrame(agg, columns = ['Man', 'Woman', 'Other'], index = edlevel)"
   ]
  },
  {
   "cell_type": "code",
   "execution_count": 33,
   "metadata": {},
   "outputs": [
    {
     "data": {
      "image/png": "[encoded data removed]",
      "text/plain": [
       "<Figure size 432x288 with 1 Axes>"
      ]
     },
     "metadata": {
      "needs_background": "light"
     },
     "output_type": "display_data"
    }
   ],
   "source": [
    "# try chart visual for different perspective if it looks better\n",
    "\n",
    "\n",
    "edlevel_plt.reset_index().plot(x = 'index', y = ['Man', 'Woman', 'Other'], kind = 'bar')\n",
    "plt.title(\"Salaries for Each Level of Education\")\n",
    "plt.xlabel(\"Level of Education\")\n",
    "plt.ylabel(\"Median Salary\")\n",
    "plt.show()"
   ]
  },
  {
   "cell_type": "markdown",
   "metadata": {},
   "source": [
    "Since the charts ended up being very small due to a couple of categories, plot each one individually:"
   ]
  },
  {
   "cell_type": "code",
   "execution_count": 21,
   "metadata": {},
   "outputs": [
    {
     "data": {
      "image/png": "[encoded data removed]",
      "text/plain": [
       "<Figure size 432x288 with 1 Axes>"
      ]
     },
     "metadata": {
      "needs_background": "light"
     },
     "output_type": "display_data"
    },
    {
     "data": {
      "image/png": "[encoded data removed]",
      "text/plain": [
       "<Figure size 432x288 with 1 Axes>"
      ]
     },
     "metadata": {
      "needs_background": "light"
     },
     "output_type": "display_data"
    },
    {
     "data": {
      "image/png": "[encoded data removed]",
      "text/plain": [
       "<Figure size 432x288 with 1 Axes>"
      ]
     },
     "metadata": {
      "needs_background": "light"
     },
     "output_type": "display_data"
    },
    {
     "data": {
      "image/png": "[encoded data removed]",
      "text/plain": [
       "<Figure size 432x288 with 1 Axes>"
      ]
     },
     "metadata": {
      "needs_background": "light"
     },
     "output_type": "display_data"
    },
    {
     "data": {
      "image/png": "[encoded data removed]",
      "text/plain": [
       "<Figure size 432x288 with 1 Axes>"
      ]
     },
     "metadata": {
      "needs_background": "light"
     },
     "output_type": "display_data"
    },
    {
     "data": {
      "image/png": "[encoded data removed]",
      "text/plain": [
       "<Figure size 432x288 with 1 Axes>"
      ]
     },
     "metadata": {
      "needs_background": "light"
     },
     "output_type": "display_data"
    },
    {
     "data": {
      "image/png": "[encoded data removed]",
      "text/plain": [
       "<Figure size 432x288 with 1 Axes>"
      ]
     },
     "metadata": {
      "needs_background": "light"
     },
     "output_type": "display_data"
    },
    {
     "data": {
      "image/png": "[encoded data removed]",
      "text/plain": [
       "<Figure size 432x288 with 1 Axes>"
      ]
     },
     "metadata": {
      "needs_background": "light"
     },
     "output_type": "display_data"
    },
    {
     "data": {
      "image/png": "[encoded data removed]",
      "text/plain": [
       "<Figure size 432x288 with 1 Axes>"
      ]
     },
     "metadata": {
      "needs_background": "light"
     },
     "output_type": "display_data"
    }
   ],
   "source": [
    "# the Professional degree and Primary school categories are very skewed\n",
    "# try each individually\n",
    "\n",
    "for i in enumerate(edlevel):\n",
    "    pd.DataFrame(edlevel_plt.reset_index().iloc[i[0]][1:4]).T.reset_index().\\\n",
    "        rename(columns = {'index':i[1]}).plot(x = i[1], y = ['Man', 'Woman', 'Other'],\\\n",
    "        kind = 'bar')\n",
    "    plt.title(i[1])\n",
    "    plt.ylabel(\"Median Salary\")\n",
    "    plt.tick_params(\n",
    "        axis='x',          # apply to the x-axis\n",
    "        bottom=False,      # remove bottomr ticks\n",
    "        labelbottom=False) \n",
    "    plt.show()"
   ]
  },
  {
   "cell_type": "markdown",
   "metadata": {},
   "source": [
    "To reiterate, the question was: **What are the salaries between genders when holding level of education constant?**\n",
    "\n",
    "Answer:  **Men make more than other genders in every level of education except in for 3 categories. The categories are:**\n",
    "- **\"Primary/Elementary School\"** \n",
    "- **\"I never completed any formal education\"**\n",
    "- **\"Secondary school\"**"
   ]
  },
  {
   "cell_type": "code",
   "execution_count": 22,
   "metadata": {},
   "outputs": [
    {
     "data": {
      "text/html": [
       "<div>\n",
       "<style scoped>\n",
       "    .dataframe tbody tr th:only-of-type {\n",
       "        vertical-align: middle;\n",
       "    }\n",
       "\n",
       "    .dataframe tbody tr th {\n",
       "        vertical-align: top;\n",
       "    }\n",
       "\n",
       "    .dataframe thead th {\n",
       "        text-align: right;\n",
       "    }\n",
       "</style>\n",
       "<table border=\"1\" class=\"dataframe\">\n",
       "  <thead>\n",
       "    <tr style=\"text-align: right;\">\n",
       "      <th></th>\n",
       "      <th>EdLevel</th>\n",
       "      <th>Men</th>\n",
       "      <th>Women</th>\n",
       "      <th>Other</th>\n",
       "      <th>Men Median Salary</th>\n",
       "      <th>Women Median Salary</th>\n",
       "      <th>Women Salary as % of Men</th>\n",
       "      <th>Other Median Salary</th>\n",
       "      <th>Other Salary as % of Men</th>\n",
       "    </tr>\n",
       "  </thead>\n",
       "  <tbody>\n",
       "    <tr>\n",
       "      <th>5</th>\n",
       "      <td>Secondary school (e.g. American high school, G...</td>\n",
       "      <td>299</td>\n",
       "      <td>14</td>\n",
       "      <td>14</td>\n",
       "      <td>$96,000</td>\n",
       "      <td>$71,000</td>\n",
       "      <td>74%</td>\n",
       "      <td>$105,000</td>\n",
       "      <td>109%</td>\n",
       "    </tr>\n",
       "    <tr>\n",
       "      <th>6</th>\n",
       "      <td>Professional degree (JD, MD, etc.)</td>\n",
       "      <td>61</td>\n",
       "      <td>7</td>\n",
       "      <td>7</td>\n",
       "      <td>$105,000</td>\n",
       "      <td>$88,000</td>\n",
       "      <td>84%</td>\n",
       "      <td>$1,000,000</td>\n",
       "      <td>952%</td>\n",
       "    </tr>\n",
       "    <tr>\n",
       "      <th>7</th>\n",
       "      <td>Primary/elementary school</td>\n",
       "      <td>43</td>\n",
       "      <td>2</td>\n",
       "      <td>2</td>\n",
       "      <td>$120,000</td>\n",
       "      <td>$435,000</td>\n",
       "      <td>362%</td>\n",
       "      <td>$90,000</td>\n",
       "      <td>75%</td>\n",
       "    </tr>\n",
       "  </tbody>\n",
       "</table>\n",
       "</div>"
      ],
      "text/plain": [
       "                                             EdLevel  Men Women Other  \\\n",
       "5  Secondary school (e.g. American high school, G...  299    14    14   \n",
       "6                 Professional degree (JD, MD, etc.)   61     7     7   \n",
       "7                          Primary/elementary school   43     2     2   \n",
       "\n",
       "  Men Median Salary Women Median Salary Women Salary as % of Men  \\\n",
       "5           $96,000             $71,000                      74%   \n",
       "6          $105,000             $88,000                      84%   \n",
       "7          $120,000            $435,000                     362%   \n",
       "\n",
       "  Other Median Salary Other Salary as % of Men  \n",
       "5            $105,000                     109%  \n",
       "6          $1,000,000                     952%  \n",
       "7             $90,000                      75%  "
      ]
     },
     "execution_count": 22,
     "metadata": {},
     "output_type": "execute_result"
    }
   ],
   "source": [
    "edlevel_df.iloc[5:8,:]"
   ]
  },
  {
   "cell_type": "markdown",
   "metadata": {},
   "source": [
    "#### Question 3: What are the salaries between genders when holding age constant?\n",
    "\n",
    "Exploring the age column revealed a couple more cleaning steps:\n",
    "\n",
    "\n",
    "There are people with ages 1, 2, and 99. "
   ]
  },
  {
   "cell_type": "code",
   "execution_count": 38,
   "metadata": {},
   "outputs": [
    {
     "data": {
      "text/html": [
       "<div>\n",
       "<style scoped>\n",
       "    .dataframe tbody tr th:only-of-type {\n",
       "        vertical-align: middle;\n",
       "    }\n",
       "\n",
       "    .dataframe tbody tr th {\n",
       "        vertical-align: top;\n",
       "    }\n",
       "\n",
       "    .dataframe thead th {\n",
       "        text-align: right;\n",
       "    }\n",
       "</style>\n",
       "<table border=\"1\" class=\"dataframe\">\n",
       "  <thead>\n",
       "    <tr style=\"text-align: right;\">\n",
       "      <th></th>\n",
       "      <th>Age</th>\n",
       "      <th>ConvertedComp</th>\n",
       "    </tr>\n",
       "  </thead>\n",
       "  <tbody>\n",
       "    <tr>\n",
       "      <th>0</th>\n",
       "      <td>1.0</td>\n",
       "      <td>62620.0</td>\n",
       "    </tr>\n",
       "    <tr>\n",
       "      <th>1</th>\n",
       "      <td>2.0</td>\n",
       "      <td>75000.0</td>\n",
       "    </tr>\n",
       "    <tr>\n",
       "      <th>2</th>\n",
       "      <td>15.0</td>\n",
       "      <td>150000.0</td>\n",
       "    </tr>\n",
       "    <tr>\n",
       "      <th>3</th>\n",
       "      <td>16.0</td>\n",
       "      <td>73100.0</td>\n",
       "    </tr>\n",
       "    <tr>\n",
       "      <th>4</th>\n",
       "      <td>17.0</td>\n",
       "      <td>7500.0</td>\n",
       "    </tr>\n",
       "    <tr>\n",
       "      <th>...</th>\n",
       "      <td>...</td>\n",
       "      <td>...</td>\n",
       "    </tr>\n",
       "    <tr>\n",
       "      <th>62</th>\n",
       "      <td>70.0</td>\n",
       "      <td>107500.0</td>\n",
       "    </tr>\n",
       "    <tr>\n",
       "      <th>63</th>\n",
       "      <td>71.0</td>\n",
       "      <td>182500.0</td>\n",
       "    </tr>\n",
       "    <tr>\n",
       "      <th>64</th>\n",
       "      <td>72.0</td>\n",
       "      <td>96000.0</td>\n",
       "    </tr>\n",
       "    <tr>\n",
       "      <th>65</th>\n",
       "      <td>74.0</td>\n",
       "      <td>120000.0</td>\n",
       "    </tr>\n",
       "    <tr>\n",
       "      <th>66</th>\n",
       "      <td>99.0</td>\n",
       "      <td>1062500.0</td>\n",
       "    </tr>\n",
       "  </tbody>\n",
       "</table>\n",
       "<p>67 rows × 2 columns</p>\n",
       "</div>"
      ],
      "text/plain": [
       "     Age  ConvertedComp\n",
       "0    1.0        62620.0\n",
       "1    2.0        75000.0\n",
       "2   15.0       150000.0\n",
       "3   16.0        73100.0\n",
       "4   17.0         7500.0\n",
       "..   ...            ...\n",
       "62  70.0       107500.0\n",
       "63  71.0       182500.0\n",
       "64  72.0        96000.0\n",
       "65  74.0       120000.0\n",
       "66  99.0      1062500.0\n",
       "\n",
       "[67 rows x 2 columns]"
      ]
     },
     "execution_count": 38,
     "metadata": {},
     "output_type": "execute_result"
    }
   ],
   "source": [
    "q3 = data.groupby(by = 'Age').median().drop(['Respondent', \\\n",
    "            'CompTotal', 'WorkWeekHrs', 'WorkWeekHrs', 'CodeRevHrs'], axis = 1).reset_index()\n",
    "q3"
   ]
  },
  {
   "cell_type": "code",
   "execution_count": 39,
   "metadata": {},
   "outputs": [
    {
     "data": {
      "text/plain": [
       "1.0     4\n",
       "99.0    2\n",
       "2.0     1\n",
       "Name: Age, dtype: int64"
      ]
     },
     "execution_count": 39,
     "metadata": {},
     "output_type": "execute_result"
    }
   ],
   "source": [
    "# how many for these ages?\n",
    "data[data['Age'].isin([1,2,99])]['Age'].value_counts()"
   ]
  },
  {
   "cell_type": "code",
   "execution_count": 40,
   "metadata": {},
   "outputs": [
    {
     "data": {
      "text/html": [
       "<div>\n",
       "<style scoped>\n",
       "    .dataframe tbody tr th:only-of-type {\n",
       "        vertical-align: middle;\n",
       "    }\n",
       "\n",
       "    .dataframe tbody tr th {\n",
       "        vertical-align: top;\n",
       "    }\n",
       "\n",
       "    .dataframe thead th {\n",
       "        text-align: right;\n",
       "    }\n",
       "</style>\n",
       "<table border=\"1\" class=\"dataframe\">\n",
       "  <thead>\n",
       "    <tr style=\"text-align: right;\">\n",
       "      <th></th>\n",
       "      <th>Age</th>\n",
       "      <th>ConvertedComp</th>\n",
       "    </tr>\n",
       "  </thead>\n",
       "  <tbody>\n",
       "    <tr>\n",
       "      <th>11799</th>\n",
       "      <td>1.0</td>\n",
       "      <td>2000000.0</td>\n",
       "    </tr>\n",
       "    <tr>\n",
       "      <th>12161</th>\n",
       "      <td>1.0</td>\n",
       "      <td>1.0</td>\n",
       "    </tr>\n",
       "    <tr>\n",
       "      <th>20086</th>\n",
       "      <td>99.0</td>\n",
       "      <td>125000.0</td>\n",
       "    </tr>\n",
       "    <tr>\n",
       "      <th>29354</th>\n",
       "      <td>2.0</td>\n",
       "      <td>75000.0</td>\n",
       "    </tr>\n",
       "    <tr>\n",
       "      <th>50517</th>\n",
       "      <td>99.0</td>\n",
       "      <td>2000000.0</td>\n",
       "    </tr>\n",
       "    <tr>\n",
       "      <th>71484</th>\n",
       "      <td>1.0</td>\n",
       "      <td>240.0</td>\n",
       "    </tr>\n",
       "    <tr>\n",
       "      <th>84141</th>\n",
       "      <td>1.0</td>\n",
       "      <td>125000.0</td>\n",
       "    </tr>\n",
       "  </tbody>\n",
       "</table>\n",
       "</div>"
      ],
      "text/plain": [
       "        Age  ConvertedComp\n",
       "11799   1.0      2000000.0\n",
       "12161   1.0            1.0\n",
       "20086  99.0       125000.0\n",
       "29354   2.0        75000.0\n",
       "50517  99.0      2000000.0\n",
       "71484   1.0          240.0\n",
       "84141   1.0       125000.0"
      ]
     },
     "execution_count": 40,
     "metadata": {},
     "output_type": "execute_result"
    }
   ],
   "source": [
    "# what are these salaries?\n",
    "data[data['Age'].isin([1,2,99])][['Age', 'ConvertedComp']]"
   ]
  },
  {
   "cell_type": "markdown",
   "metadata": {},
   "source": [
    "These do not seem like legitimate answers due to the age values and each rows reported salary. This survey was a public survey, and some answers may not have been answered in good faith. These appear so, and will be removed. "
   ]
  },
  {
   "cell_type": "code",
   "execution_count": 41,
   "metadata": {},
   "outputs": [
    {
     "data": {
      "text/html": [
       "<div>\n",
       "<style scoped>\n",
       "    .dataframe tbody tr th:only-of-type {\n",
       "        vertical-align: middle;\n",
       "    }\n",
       "\n",
       "    .dataframe tbody tr th {\n",
       "        vertical-align: top;\n",
       "    }\n",
       "\n",
       "    .dataframe thead th {\n",
       "        text-align: right;\n",
       "    }\n",
       "</style>\n",
       "<table border=\"1\" class=\"dataframe\">\n",
       "  <thead>\n",
       "    <tr style=\"text-align: right;\">\n",
       "      <th></th>\n",
       "      <th>Age</th>\n",
       "      <th>ConvertedComp</th>\n",
       "    </tr>\n",
       "  </thead>\n",
       "  <tbody>\n",
       "    <tr>\n",
       "      <th>0</th>\n",
       "      <td>15.0</td>\n",
       "      <td>150000.0</td>\n",
       "    </tr>\n",
       "    <tr>\n",
       "      <th>1</th>\n",
       "      <td>16.0</td>\n",
       "      <td>73100.0</td>\n",
       "    </tr>\n",
       "    <tr>\n",
       "      <th>2</th>\n",
       "      <td>17.0</td>\n",
       "      <td>7500.0</td>\n",
       "    </tr>\n",
       "    <tr>\n",
       "      <th>3</th>\n",
       "      <td>18.0</td>\n",
       "      <td>20000.0</td>\n",
       "    </tr>\n",
       "    <tr>\n",
       "      <th>4</th>\n",
       "      <td>19.0</td>\n",
       "      <td>32500.0</td>\n",
       "    </tr>\n",
       "    <tr>\n",
       "      <th>...</th>\n",
       "      <td>...</td>\n",
       "      <td>...</td>\n",
       "    </tr>\n",
       "    <tr>\n",
       "      <th>59</th>\n",
       "      <td>69.0</td>\n",
       "      <td>132500.0</td>\n",
       "    </tr>\n",
       "    <tr>\n",
       "      <th>60</th>\n",
       "      <td>70.0</td>\n",
       "      <td>107500.0</td>\n",
       "    </tr>\n",
       "    <tr>\n",
       "      <th>61</th>\n",
       "      <td>71.0</td>\n",
       "      <td>182500.0</td>\n",
       "    </tr>\n",
       "    <tr>\n",
       "      <th>62</th>\n",
       "      <td>72.0</td>\n",
       "      <td>96000.0</td>\n",
       "    </tr>\n",
       "    <tr>\n",
       "      <th>63</th>\n",
       "      <td>74.0</td>\n",
       "      <td>120000.0</td>\n",
       "    </tr>\n",
       "  </tbody>\n",
       "</table>\n",
       "<p>64 rows × 2 columns</p>\n",
       "</div>"
      ],
      "text/plain": [
       "     Age  ConvertedComp\n",
       "0   15.0       150000.0\n",
       "1   16.0        73100.0\n",
       "2   17.0         7500.0\n",
       "3   18.0        20000.0\n",
       "4   19.0        32500.0\n",
       "..   ...            ...\n",
       "59  69.0       132500.0\n",
       "60  70.0       107500.0\n",
       "61  71.0       182500.0\n",
       "62  72.0        96000.0\n",
       "63  74.0       120000.0\n",
       "\n",
       "[64 rows x 2 columns]"
      ]
     },
     "execution_count": 41,
     "metadata": {},
     "output_type": "execute_result"
    }
   ],
   "source": [
    "# remove throws with these ages\n",
    "q3 = data[~data['Age'].isin([99,2,1])]\n",
    "\n",
    "# verify removal\n",
    "q3.groupby(by = 'Age').median().drop(['Respondent', \\\n",
    "            'CompTotal', 'WorkWeekHrs', 'WorkWeekHrs', 'CodeRevHrs'], axis = 1).reset_index()"
   ]
  },
  {
   "cell_type": "markdown",
   "metadata": {},
   "source": [
    "After these rows were removed, we can look at the remaining data:"
   ]
  },
  {
   "cell_type": "code",
   "execution_count": 42,
   "metadata": {},
   "outputs": [
    {
     "name": "stdout",
     "output_type": "stream",
     "text": [
      "64\n",
      "\n",
      "27.0    788\n",
      "30.0    777\n",
      "29.0    777\n",
      "28.0    768\n",
      "25.0    754\n",
      "       ... \n",
      "24.5      1\n",
      "74.0      1\n",
      "26.5      1\n",
      "61.3      1\n",
      "37.5      1\n",
      "Name: Age, Length: 64, dtype: int64\n"
     ]
    },
    {
     "data": {
      "text/html": [
       "<div>\n",
       "<style scoped>\n",
       "    .dataframe tbody tr th:only-of-type {\n",
       "        vertical-align: middle;\n",
       "    }\n",
       "\n",
       "    .dataframe tbody tr th {\n",
       "        vertical-align: top;\n",
       "    }\n",
       "\n",
       "    .dataframe thead th {\n",
       "        text-align: right;\n",
       "    }\n",
       "</style>\n",
       "<table border=\"1\" class=\"dataframe\">\n",
       "  <thead>\n",
       "    <tr style=\"text-align: right;\">\n",
       "      <th></th>\n",
       "      <th>Age</th>\n",
       "      <th>ConvertedComp</th>\n",
       "    </tr>\n",
       "  </thead>\n",
       "  <tbody>\n",
       "    <tr>\n",
       "      <th>0</th>\n",
       "      <td>15.0</td>\n",
       "      <td>150000.0</td>\n",
       "    </tr>\n",
       "    <tr>\n",
       "      <th>1</th>\n",
       "      <td>16.0</td>\n",
       "      <td>73100.0</td>\n",
       "    </tr>\n",
       "    <tr>\n",
       "      <th>2</th>\n",
       "      <td>17.0</td>\n",
       "      <td>7500.0</td>\n",
       "    </tr>\n",
       "    <tr>\n",
       "      <th>3</th>\n",
       "      <td>18.0</td>\n",
       "      <td>20000.0</td>\n",
       "    </tr>\n",
       "    <tr>\n",
       "      <th>4</th>\n",
       "      <td>19.0</td>\n",
       "      <td>32500.0</td>\n",
       "    </tr>\n",
       "    <tr>\n",
       "      <th>...</th>\n",
       "      <td>...</td>\n",
       "      <td>...</td>\n",
       "    </tr>\n",
       "    <tr>\n",
       "      <th>59</th>\n",
       "      <td>69.0</td>\n",
       "      <td>132500.0</td>\n",
       "    </tr>\n",
       "    <tr>\n",
       "      <th>60</th>\n",
       "      <td>70.0</td>\n",
       "      <td>107500.0</td>\n",
       "    </tr>\n",
       "    <tr>\n",
       "      <th>61</th>\n",
       "      <td>71.0</td>\n",
       "      <td>182500.0</td>\n",
       "    </tr>\n",
       "    <tr>\n",
       "      <th>62</th>\n",
       "      <td>72.0</td>\n",
       "      <td>96000.0</td>\n",
       "    </tr>\n",
       "    <tr>\n",
       "      <th>63</th>\n",
       "      <td>74.0</td>\n",
       "      <td>120000.0</td>\n",
       "    </tr>\n",
       "  </tbody>\n",
       "</table>\n",
       "<p>64 rows × 2 columns</p>\n",
       "</div>"
      ],
      "text/plain": [
       "     Age  ConvertedComp\n",
       "0   15.0       150000.0\n",
       "1   16.0        73100.0\n",
       "2   17.0         7500.0\n",
       "3   18.0        20000.0\n",
       "4   19.0        32500.0\n",
       "..   ...            ...\n",
       "59  69.0       132500.0\n",
       "60  70.0       107500.0\n",
       "61  71.0       182500.0\n",
       "62  72.0        96000.0\n",
       "63  74.0       120000.0\n",
       "\n",
       "[64 rows x 2 columns]"
      ]
     },
     "execution_count": 42,
     "metadata": {},
     "output_type": "execute_result"
    }
   ],
   "source": [
    "# how many ages in dataset?\n",
    "print(len(q3['Age'].value_counts()))\n",
    "print()\n",
    "# how many people in each age?\n",
    "print(q3['Age'].value_counts())\n",
    "\n",
    "# what are the medians for each age?\n",
    "q3.groupby(by = 'Age').median().drop(['Respondent', \\\n",
    "            'CompTotal', 'WorkWeekHrs', 'WorkWeekHrs', 'CodeRevHrs'], axis = 1).reset_index()"
   ]
  },
  {
   "cell_type": "code",
   "execution_count": 43,
   "metadata": {},
   "outputs": [
    {
     "name": "stdout",
     "output_type": "stream",
     "text": [
      "1\n",
      "693\n",
      "754\n"
     ]
    }
   ],
   "source": [
    "print(sum(q3['Age'] == 24.5))\n",
    "print(sum(q3['Age'] == 24))\n",
    "print(sum(q3['Age'] == 25))"
   ]
  },
  {
   "cell_type": "markdown",
   "metadata": {},
   "source": [
    "There are 64 different ages in this dataset. This is a lot of ages to compare. In addition, there are some ages such as 24.5 which makes ages hard to compare with each other. To assist with the issue of a large number of ages, I can compare salaries between generations, and then between genders in each generation.\n",
    "\n",
    "A generation is defined based on a person's year of birth. Pew Research Center provided the following graphic illustrating how each generation is defined:"
   ]
  },
  {
   "cell_type": "markdown",
   "metadata": {},
   "source": [
    "<img src='generations.png' alt='generations' style='width: 800px;'/>"
   ]
  },
  {
   "cell_type": "markdown",
   "metadata": {},
   "source": [
    "Using this information, I can use the age of the person and get a good estimate of the generation they belong to and decrease the number of categorie being compared:"
   ]
  },
  {
   "cell_type": "code",
   "execution_count": 44,
   "metadata": {},
   "outputs": [],
   "source": [
    "# calculate age boundaries for each generation\n",
    "year_curr = 2019 # use 2019 since this was survey data from 2019\n",
    "boomer_age_upper = year_curr - 1946\n",
    "boomer_age_lower = year_curr - 1964\n",
    "genx_age_upper = year_curr - 1965\n",
    "genx_age_lower= year_curr -1980\n",
    "millenial_age_upper = year_curr - 1981\n",
    "millenial_age_lower = year_curr - 1996\n",
    "genz_age_upper = year_curr - 1997\n",
    "genz_age_lower = year_curr - 2012\n",
    "silent_age_upper = year_curr - 1928\n",
    "silent_age_lower = year_curr - 1945"
   ]
  },
  {
   "cell_type": "code",
   "execution_count": 45,
   "metadata": {},
   "outputs": [],
   "source": [
    "#create new rows\n",
    "q3.loc[q3['Age'] >= silent_age_lower, 'Age_Gen'] = 'Silent'\n",
    "q3.loc[((q3['Age'] >= boomer_age_lower) & \\\n",
    "              (q3['Age'] <= boomer_age_upper)), 'Age_Gen'] = 'Boomers'\n",
    "q3.loc[((q3['Age'] >= genx_age_lower) & \\\n",
    "              (q3['Age'] <= genx_age_upper)), 'Age_Gen'] = 'Generation X'\n",
    "q3.loc[((q3['Age'] >= millenial_age_lower) & \\\n",
    "              (q3['Age'] <= millenial_age_upper)), 'Age_Gen'] = 'Millenials'\n",
    "q3.loc[((q3['Age'] >= genz_age_lower) & \\\n",
    "              (q3['Age'] <= genz_age_upper)), 'Age_Gen'] = 'Generation Z'"
   ]
  },
  {
   "cell_type": "code",
   "execution_count": 46,
   "metadata": {},
   "outputs": [
    {
     "data": {
      "text/html": [
       "<div>\n",
       "<style scoped>\n",
       "    .dataframe tbody tr th:only-of-type {\n",
       "        vertical-align: middle;\n",
       "    }\n",
       "\n",
       "    .dataframe tbody tr th {\n",
       "        vertical-align: top;\n",
       "    }\n",
       "\n",
       "    .dataframe thead th {\n",
       "        text-align: right;\n",
       "    }\n",
       "</style>\n",
       "<table border=\"1\" class=\"dataframe\">\n",
       "  <thead>\n",
       "    <tr style=\"text-align: right;\">\n",
       "      <th></th>\n",
       "      <th>Age</th>\n",
       "      <th>Age_Gen</th>\n",
       "    </tr>\n",
       "  </thead>\n",
       "  <tbody>\n",
       "    <tr>\n",
       "      <th>3</th>\n",
       "      <td>22.0</td>\n",
       "      <td>Generation Z</td>\n",
       "    </tr>\n",
       "    <tr>\n",
       "      <th>12</th>\n",
       "      <td>28.0</td>\n",
       "      <td>Millenials</td>\n",
       "    </tr>\n",
       "    <tr>\n",
       "      <th>21</th>\n",
       "      <td>47.0</td>\n",
       "      <td>Generation X</td>\n",
       "    </tr>\n",
       "    <tr>\n",
       "      <th>22</th>\n",
       "      <td>22.0</td>\n",
       "      <td>Generation Z</td>\n",
       "    </tr>\n",
       "    <tr>\n",
       "      <th>25</th>\n",
       "      <td>34.0</td>\n",
       "      <td>Millenials</td>\n",
       "    </tr>\n",
       "    <tr>\n",
       "      <th>...</th>\n",
       "      <td>...</td>\n",
       "      <td>...</td>\n",
       "    </tr>\n",
       "    <tr>\n",
       "      <th>88312</th>\n",
       "      <td>36.0</td>\n",
       "      <td>Millenials</td>\n",
       "    </tr>\n",
       "    <tr>\n",
       "      <th>88321</th>\n",
       "      <td>26.0</td>\n",
       "      <td>Millenials</td>\n",
       "    </tr>\n",
       "    <tr>\n",
       "      <th>88323</th>\n",
       "      <td>23.0</td>\n",
       "      <td>Millenials</td>\n",
       "    </tr>\n",
       "    <tr>\n",
       "      <th>88324</th>\n",
       "      <td>48.0</td>\n",
       "      <td>Generation X</td>\n",
       "    </tr>\n",
       "    <tr>\n",
       "      <th>88325</th>\n",
       "      <td>26.0</td>\n",
       "      <td>Millenials</td>\n",
       "    </tr>\n",
       "  </tbody>\n",
       "</table>\n",
       "<p>14974 rows × 2 columns</p>\n",
       "</div>"
      ],
      "text/plain": [
       "        Age       Age_Gen\n",
       "3      22.0  Generation Z\n",
       "12     28.0    Millenials\n",
       "21     47.0  Generation X\n",
       "22     22.0  Generation Z\n",
       "25     34.0    Millenials\n",
       "...     ...           ...\n",
       "88312  36.0    Millenials\n",
       "88321  26.0    Millenials\n",
       "88323  23.0    Millenials\n",
       "88324  48.0  Generation X\n",
       "88325  26.0    Millenials\n",
       "\n",
       "[14974 rows x 2 columns]"
      ]
     },
     "execution_count": 46,
     "metadata": {},
     "output_type": "execute_result"
    }
   ],
   "source": [
    "q3[['Age','Age_Gen']]"
   ]
  },
  {
   "cell_type": "code",
   "execution_count": 47,
   "metadata": {},
   "outputs": [
    {
     "data": {
      "text/html": [
       "<div>\n",
       "<style scoped>\n",
       "    .dataframe tbody tr th:only-of-type {\n",
       "        vertical-align: middle;\n",
       "    }\n",
       "\n",
       "    .dataframe tbody tr th {\n",
       "        vertical-align: top;\n",
       "    }\n",
       "\n",
       "    .dataframe thead th {\n",
       "        text-align: right;\n",
       "    }\n",
       "</style>\n",
       "<table border=\"1\" class=\"dataframe\">\n",
       "  <thead>\n",
       "    <tr style=\"text-align: right;\">\n",
       "      <th></th>\n",
       "      <th>Age_Gen</th>\n",
       "      <th>Men</th>\n",
       "      <th>Women</th>\n",
       "      <th>Other</th>\n",
       "      <th>Men Median Salary</th>\n",
       "      <th>Women Median Salary</th>\n",
       "      <th>Women Salary as % of Men</th>\n",
       "      <th>Other Median Salary</th>\n",
       "      <th>Other Salary as % of Men</th>\n",
       "    </tr>\n",
       "  </thead>\n",
       "  <tbody>\n",
       "    <tr>\n",
       "      <th>0</th>\n",
       "      <td>Millenials</td>\n",
       "      <td>8,923</td>\n",
       "      <td>1,094</td>\n",
       "      <td>287</td>\n",
       "      <td>$108,000</td>\n",
       "      <td>$98,000</td>\n",
       "      <td>91%</td>\n",
       "      <td>$104,300</td>\n",
       "      <td>97%</td>\n",
       "    </tr>\n",
       "    <tr>\n",
       "      <th>1</th>\n",
       "      <td>Generation X</td>\n",
       "      <td>2,447</td>\n",
       "      <td>222</td>\n",
       "      <td>65</td>\n",
       "      <td>$134,000</td>\n",
       "      <td>$101,000</td>\n",
       "      <td>75%</td>\n",
       "      <td>$134,000</td>\n",
       "      <td>100%</td>\n",
       "    </tr>\n",
       "    <tr>\n",
       "      <th>2</th>\n",
       "      <td>Generation Z</td>\n",
       "      <td>635</td>\n",
       "      <td>62</td>\n",
       "      <td>28</td>\n",
       "      <td>$70,000</td>\n",
       "      <td>$72,000</td>\n",
       "      <td>103%</td>\n",
       "      <td>$55,000</td>\n",
       "      <td>79%</td>\n",
       "    </tr>\n",
       "    <tr>\n",
       "      <th>3</th>\n",
       "      <td>Boomers</td>\n",
       "      <td>492</td>\n",
       "      <td>25</td>\n",
       "      <td>17</td>\n",
       "      <td>$131,700</td>\n",
       "      <td>$108,000</td>\n",
       "      <td>82%</td>\n",
       "      <td>$121,000</td>\n",
       "      <td>92%</td>\n",
       "    </tr>\n",
       "  </tbody>\n",
       "</table>\n",
       "</div>"
      ],
      "text/plain": [
       "        Age_Gen    Men  Women Other Men Median Salary Women Median Salary  \\\n",
       "0    Millenials  8,923  1,094   287          $108,000             $98,000   \n",
       "1  Generation X  2,447    222    65          $134,000            $101,000   \n",
       "2  Generation Z    635     62    28           $70,000             $72,000   \n",
       "3       Boomers    492     25    17          $131,700            $108,000   \n",
       "\n",
       "  Women Salary as % of Men Other Median Salary Other Salary as % of Men  \n",
       "0                      91%            $104,300                      97%  \n",
       "1                      75%            $134,000                     100%  \n",
       "2                     103%             $55,000                      79%  \n",
       "3                      82%            $121,000                      92%  "
      ]
     },
     "execution_count": 47,
     "metadata": {},
     "output_type": "execute_result"
    }
   ],
   "source": [
    "# create table for generations\n",
    "# drop silent generation, since only one person in that group\n",
    "generation = q3[q3['Age_Gen']!='Silent']['Age_Gen'].value_counts().\\\n",
    "                    rename_axis('Age_Gen').\\\n",
    "                    reset_index(name = 'counts')['Age_Gen']\n",
    "\n",
    "men_age_gen = []\n",
    "women_age_gen = []\n",
    "other_age_gen = []\n",
    "men_count_age_gen = []\n",
    "women_count_age_gen = []\n",
    "other_count_age_gen = []\n",
    "\n",
    "#calculate men salaries\n",
    "for i in generation:\n",
    "    men_age_gen.append(q3[(q3['Age_Gen'] == i)\\\n",
    "            & (q3['Gender'] == 'Man')]['ConvertedComp'].median())\n",
    "\n",
    "# calculate women salaries\n",
    "for i in generation:\n",
    "    women_age_gen.append(q3[(q3['Age_Gen'] == i)\\\n",
    "            & (q3['Gender'] == 'Woman')]['ConvertedComp'].median())\n",
    "    \n",
    "# calculate other salaries\n",
    "for i in generation:\n",
    "    other_age_gen.append(q3[(q3['Age_Gen'] == i)\\\n",
    "            & (q3['Gender'] == 'Other')]['ConvertedComp'].median())\n",
    "\n",
    "\n",
    "# calculate percent of women to men salaries\n",
    "percent = [w/m for w, m in zip(women_age_gen,men_age_gen)]\n",
    "other_percent = [o/m for o, m in zip(other_age_gen,men_age_gen)]\n",
    "\n",
    "#calculate man count\n",
    "for i in generation:\n",
    "    men_count_age_gen.append(q3[(q3['Age_Gen'] == i)\\\n",
    "            & (q3['Gender'] == 'Man')]['Gender'].count())\n",
    "\n",
    "# calculate woman count\n",
    "for i in generation:\n",
    "    women_count_age_gen.append(q3[(q3['Age_Gen'] == i)\\\n",
    "            & (q3['Gender'] == 'Woman')]['Gender'].count())\n",
    "\n",
    "# calculate other count\n",
    "for i in generation:\n",
    "    other_count_age_gen.append(q3[(q3['Age_Gen'] == i)\\\n",
    "            & (q3['Gender'] == 'Other')]['Gender'].count())\n",
    "    \n",
    "# create a dictionary using lists that will be used for each column in dataframe\n",
    "dict_percent = {'Age_Gen':generation, 'Men': men_count_age_gen, 'Women': women_count_age_gen,\\\n",
    "                'Other' : other_count_age_gen, 'Men Median Salary': men_age_gen, \\\n",
    "                'Women Median Salary' : women_age_gen, 'Women Salary as % of Men' : percent,\\\n",
    "                'Other Median Salary' : other_age_gen, 'Other Salary as % of Men': other_percent\n",
    "                }\n",
    "\n",
    "\n",
    "# create dataframe\n",
    "gen_df = pd.DataFrame(dict_percent)\n",
    "\n",
    "#sort dataframe\n",
    "#gen_df = gen_df.sort_values('Men Median Salary')\n",
    "\n",
    "#format columns\n",
    "gen_df['Men Median Salary'] = gen_df['Men Median Salary'].apply(lambda x: \"${:,.0f}\".format(x))\n",
    "gen_df['Women Median Salary'] = gen_df['Women Median Salary'].apply(lambda x: \"${:,.0f}\".format(x))\n",
    "gen_df['Other Median Salary'] = gen_df['Other Median Salary'].apply(lambda x: \"${:,.0f}\".format(x))\n",
    "gen_df['Men'] = gen_df['Men'].apply(lambda x: \"{:,.0f}\".format(x))\n",
    "gen_df['Women'] = gen_df['Women'].apply(lambda x: \"{:,.0f}\".format(x))\n",
    "gen_df['Other'] = gen_df['Other'].apply(lambda x: \"{:,.0f}\".format(x))\n",
    "gen_df['Women Salary as % of Men'] = gen_df['Women Salary as % of Men'].apply(lambda x: \"{:.0%}\".format(x))\n",
    "gen_df['Other Salary as % of Men'] = gen_df['Other Salary as % of Men'].apply(lambda x: \"{:.0%}\".format(x))\n",
    "\n",
    "\n",
    "# see dataframe\n",
    "gen_df"
   ]
  },
  {
   "cell_type": "code",
   "execution_count": 48,
   "metadata": {},
   "outputs": [
    {
     "data": {
      "text/html": [
       "<div>\n",
       "<style scoped>\n",
       "    .dataframe tbody tr th:only-of-type {\n",
       "        vertical-align: middle;\n",
       "    }\n",
       "\n",
       "    .dataframe tbody tr th {\n",
       "        vertical-align: top;\n",
       "    }\n",
       "\n",
       "    .dataframe thead th {\n",
       "        text-align: right;\n",
       "    }\n",
       "</style>\n",
       "<table border=\"1\" class=\"dataframe\">\n",
       "  <thead>\n",
       "    <tr style=\"text-align: right;\">\n",
       "      <th></th>\n",
       "      <th>Age_Gen</th>\n",
       "      <th>Men</th>\n",
       "      <th>Women</th>\n",
       "      <th>Other</th>\n",
       "      <th>Men Median Salary</th>\n",
       "      <th>Women Median Salary</th>\n",
       "      <th>Women Salary as % of Men</th>\n",
       "      <th>Other Median Salary</th>\n",
       "      <th>Other Salary as % of Men</th>\n",
       "    </tr>\n",
       "  </thead>\n",
       "  <tbody>\n",
       "    <tr>\n",
       "      <th>2</th>\n",
       "      <td>Generation Z</td>\n",
       "      <td>635</td>\n",
       "      <td>62</td>\n",
       "      <td>28</td>\n",
       "      <td>$70,000</td>\n",
       "      <td>$72,000</td>\n",
       "      <td>103%</td>\n",
       "      <td>$55,000</td>\n",
       "      <td>79%</td>\n",
       "    </tr>\n",
       "    <tr>\n",
       "      <th>0</th>\n",
       "      <td>Millenials</td>\n",
       "      <td>8,923</td>\n",
       "      <td>1,094</td>\n",
       "      <td>287</td>\n",
       "      <td>$108,000</td>\n",
       "      <td>$98,000</td>\n",
       "      <td>91%</td>\n",
       "      <td>$104,300</td>\n",
       "      <td>97%</td>\n",
       "    </tr>\n",
       "    <tr>\n",
       "      <th>1</th>\n",
       "      <td>Generation X</td>\n",
       "      <td>2,447</td>\n",
       "      <td>222</td>\n",
       "      <td>65</td>\n",
       "      <td>$134,000</td>\n",
       "      <td>$101,000</td>\n",
       "      <td>75%</td>\n",
       "      <td>$134,000</td>\n",
       "      <td>100%</td>\n",
       "    </tr>\n",
       "    <tr>\n",
       "      <th>3</th>\n",
       "      <td>Boomers</td>\n",
       "      <td>492</td>\n",
       "      <td>25</td>\n",
       "      <td>17</td>\n",
       "      <td>$131,700</td>\n",
       "      <td>$108,000</td>\n",
       "      <td>82%</td>\n",
       "      <td>$121,000</td>\n",
       "      <td>92%</td>\n",
       "    </tr>\n",
       "  </tbody>\n",
       "</table>\n",
       "</div>"
      ],
      "text/plain": [
       "        Age_Gen    Men  Women Other Men Median Salary Women Median Salary  \\\n",
       "2  Generation Z    635     62    28           $70,000             $72,000   \n",
       "0    Millenials  8,923  1,094   287          $108,000             $98,000   \n",
       "1  Generation X  2,447    222    65          $134,000            $101,000   \n",
       "3       Boomers    492     25    17          $131,700            $108,000   \n",
       "\n",
       "  Women Salary as % of Men Other Median Salary Other Salary as % of Men  \n",
       "2                     103%             $55,000                      79%  \n",
       "0                      91%            $104,300                      97%  \n",
       "1                      75%            $134,000                     100%  \n",
       "3                      82%            $121,000                      92%  "
      ]
     },
     "execution_count": 48,
     "metadata": {},
     "output_type": "execute_result"
    }
   ],
   "source": [
    "# sort by youngest to oldest generations\n",
    "gen_df.iloc[[2,0,1,3]]"
   ]
  },
  {
   "cell_type": "markdown",
   "metadata": {},
   "source": [
    "For the most part, each generation follows the typical gender pay gap of men having a higher median salary than women. There are two areas that are interesting:"
   ]
  },
  {
   "cell_type": "markdown",
   "metadata": {},
   "source": [
    "**1. Women in Gen Z**: Women have a higher median salary by $2,000. This is interesting since they are the youngest generation, so it is good to see that that it goes against the typcial pay gap for the most recent workers entering the workforce. It would be interesting how this salary comparison changes over time with the same group of workers. Will the pay gap eventually close with more equal median salaries? Will this pay gap remain? Or will it switch towards the historical pay gap of men making more than woman?\n",
    "\n",
    "This could indicate how gender pay bias changes overtime and at different stages of someone's career. This analysis is out of scope for this analysis, but could be interesting to do further analysis. "
   ]
  },
  {
   "cell_type": "code",
   "execution_count": 49,
   "metadata": {},
   "outputs": [
    {
     "data": {
      "text/html": [
       "<div>\n",
       "<style scoped>\n",
       "    .dataframe tbody tr th:only-of-type {\n",
       "        vertical-align: middle;\n",
       "    }\n",
       "\n",
       "    .dataframe tbody tr th {\n",
       "        vertical-align: top;\n",
       "    }\n",
       "\n",
       "    .dataframe thead th {\n",
       "        text-align: right;\n",
       "    }\n",
       "</style>\n",
       "<table border=\"1\" class=\"dataframe\">\n",
       "  <thead>\n",
       "    <tr style=\"text-align: right;\">\n",
       "      <th></th>\n",
       "      <th>Age_Gen</th>\n",
       "      <th>Men</th>\n",
       "      <th>Women</th>\n",
       "      <th>Other</th>\n",
       "      <th>Men Median Salary</th>\n",
       "      <th>Women Median Salary</th>\n",
       "      <th>Women Salary as % of Men</th>\n",
       "      <th>Other Median Salary</th>\n",
       "      <th>Other Salary as % of Men</th>\n",
       "    </tr>\n",
       "  </thead>\n",
       "  <tbody>\n",
       "    <tr>\n",
       "      <th>2</th>\n",
       "      <td>Generation Z</td>\n",
       "      <td>635</td>\n",
       "      <td>62</td>\n",
       "      <td>28</td>\n",
       "      <td>$70,000</td>\n",
       "      <td>$72,000</td>\n",
       "      <td>103%</td>\n",
       "      <td>$55,000</td>\n",
       "      <td>79%</td>\n",
       "    </tr>\n",
       "  </tbody>\n",
       "</table>\n",
       "</div>"
      ],
      "text/plain": [
       "        Age_Gen  Men Women Other Men Median Salary Women Median Salary  \\\n",
       "2  Generation Z  635    62    28           $70,000             $72,000   \n",
       "\n",
       "  Women Salary as % of Men Other Median Salary Other Salary as % of Men  \n",
       "2                     103%             $55,000                      79%  "
      ]
     },
     "execution_count": 49,
     "metadata": {},
     "output_type": "execute_result"
    }
   ],
   "source": [
    "gen_df[gen_df['Age_Gen']=='Generation Z']"
   ]
  },
  {
   "cell_type": "markdown",
   "metadata": {},
   "source": [
    "**2. 'Other' Gender in Gen X**: The 'Other' category for gender makes the same median salary as men. This group also made more than women, which is also interesting since this category aligns with men."
   ]
  },
  {
   "cell_type": "code",
   "execution_count": 50,
   "metadata": {},
   "outputs": [
    {
     "data": {
      "text/html": [
       "<div>\n",
       "<style scoped>\n",
       "    .dataframe tbody tr th:only-of-type {\n",
       "        vertical-align: middle;\n",
       "    }\n",
       "\n",
       "    .dataframe tbody tr th {\n",
       "        vertical-align: top;\n",
       "    }\n",
       "\n",
       "    .dataframe thead th {\n",
       "        text-align: right;\n",
       "    }\n",
       "</style>\n",
       "<table border=\"1\" class=\"dataframe\">\n",
       "  <thead>\n",
       "    <tr style=\"text-align: right;\">\n",
       "      <th></th>\n",
       "      <th>Age_Gen</th>\n",
       "      <th>Men</th>\n",
       "      <th>Women</th>\n",
       "      <th>Other</th>\n",
       "      <th>Men Median Salary</th>\n",
       "      <th>Women Median Salary</th>\n",
       "      <th>Women Salary as % of Men</th>\n",
       "      <th>Other Median Salary</th>\n",
       "      <th>Other Salary as % of Men</th>\n",
       "    </tr>\n",
       "  </thead>\n",
       "  <tbody>\n",
       "    <tr>\n",
       "      <th>1</th>\n",
       "      <td>Generation X</td>\n",
       "      <td>2,447</td>\n",
       "      <td>222</td>\n",
       "      <td>65</td>\n",
       "      <td>$134,000</td>\n",
       "      <td>$101,000</td>\n",
       "      <td>75%</td>\n",
       "      <td>$134,000</td>\n",
       "      <td>100%</td>\n",
       "    </tr>\n",
       "  </tbody>\n",
       "</table>\n",
       "</div>"
      ],
      "text/plain": [
       "        Age_Gen    Men Women Other Men Median Salary Women Median Salary  \\\n",
       "1  Generation X  2,447   222    65          $134,000            $101,000   \n",
       "\n",
       "  Women Salary as % of Men Other Median Salary Other Salary as % of Men  \n",
       "1                      75%            $134,000                     100%  "
      ]
     },
     "execution_count": 50,
     "metadata": {},
     "output_type": "execute_result"
    }
   ],
   "source": [
    "gen_df[gen_df['Age_Gen']=='Generation X']"
   ]
  },
  {
   "cell_type": "markdown",
   "metadata": {},
   "source": [
    "Next, I'll also visualize the table above into bar charts for each generation"
   ]
  },
  {
   "cell_type": "code",
   "execution_count": 70,
   "metadata": {},
   "outputs": [
    {
     "data": {
      "image/png": "[encoded data removed]",
      "text/plain": [
       "<Figure size 648x360 with 1 Axes>"
      ]
     },
     "metadata": {
      "needs_background": "light"
     },
     "output_type": "display_data"
    }
   ],
   "source": [
    "# bar chart with each generation having three bars for each gender\n",
    "men_plt = gen_df['Men Median Salary']\n",
    "wmn_plt = gen_df['Women Median Salary']\n",
    "other_plt = gen_df['Other Median Salary']\n",
    "\n",
    "# try chart visual for different perspective if it looks better\n",
    "gen_list = gen_df['Age_Gen'].tolist()\n",
    "\n",
    "agg = list(zip(men_age_gen, women_age_gen, other_age_gen))\n",
    "gen_plt = pd.DataFrame(agg, columns = ['Man', 'Woman', 'Other'], index = gen_list)\n",
    "\n",
    "gen_plt.reset_index().plot(x = 'index', y = ['Man', 'Woman', 'Other'], kind = 'bar')\n",
    "plt.title(\"Salaries for Each Generation\")\n",
    "plt.xlabel(\"Generation\")\n",
    "plt.ylabel(\"Median Salary\")\n",
    "plt.rcParams[\"figure.figsize\"] = [12,5]\n",
    "plt.show()\n",
    "\n"
   ]
  },
  {
   "cell_type": "code",
   "execution_count": 74,
   "metadata": {},
   "outputs": [
    {
     "data": {
      "image/png": "[encoded data removed]",
      "text/plain": [
       "<Figure size 432x288 with 1 Axes>"
      ]
     },
     "metadata": {
      "needs_background": "light"
     },
     "output_type": "display_data"
    },
    {
     "data": {
      "image/png": "[encoded data removed]",
      "text/plain": [
       "<Figure size 432x288 with 1 Axes>"
      ]
     },
     "metadata": {
      "needs_background": "light"
     },
     "output_type": "display_data"
    },
    {
     "data": {
      "image/png": "[encoded data removed]",
      "text/plain": [
       "<Figure size 432x288 with 1 Axes>"
      ]
     },
     "metadata": {
      "needs_background": "light"
     },
     "output_type": "display_data"
    },
    {
     "data": {
      "image/png": "[encoded data removed]",
      "text/plain": [
       "<Figure size 432x288 with 1 Axes>"
      ]
     },
     "metadata": {
      "needs_background": "light"
     },
     "output_type": "display_data"
    },
    {
     "data": {
      "image/png": "[encoded data removed]",
      "text/plain": [
       "<Figure size 432x288 with 1 Axes>"
      ]
     },
     "metadata": {
      "needs_background": "light"
     },
     "output_type": "display_data"
    }
   ],
   "source": [
    "# bar chart with each generation having three bars for each gender\n",
    "men_plt = gen_df['Men Median Salary']\n",
    "wmn_plt = gen_df['Women Median Salary']\n",
    "other_plt = gen_df['Other Median Salary']\n",
    "\n",
    "# try chart visual for different perspective if it looks better\n",
    "gen_list = gen_df['Age_Gen'].tolist()\n",
    "\n",
    "agg = list(zip(men_age_gen, women_age_gen, other_age_gen))\n",
    "gen_plt = pd.DataFrame(agg, columns = ['Man', 'Woman', 'Other'], index = gen_list)\n",
    "\n",
    "\n",
    "gen_plt.reset_index().plot(x = 'index', y = ['Man', 'Woman', 'Other'], kind = 'bar')\n",
    "plt.title(\"Salaries for Each Generation\")\n",
    "plt.xlabel(\"Generation\")\n",
    "plt.ylabel(\"Median Salary\")\n",
    "plt.show()\n",
    "\n",
    "for i in enumerate(gen_list):\n",
    "    pd.DataFrame(gen_plt.reset_index().iloc[i[0]][1:4]).T.reset_index().\\\n",
    "        rename(columns = {'index':i[1]}).plot(x = i[1], y = ['Man', 'Woman', 'Other'],\\\n",
    "        kind = 'bar')\n",
    "    plt.title(i[1])\n",
    "    plt.ylabel(\"Median Salary\")\n",
    "    plt.tick_params(\n",
    "        axis='x',          # apply to the x-axis\n",
    "        bottom=False,      # remove bottom ticks\n",
    "        labelbottom=False) \n",
    "    plt.show()"
   ]
  },
  {
   "cell_type": "markdown",
   "metadata": {},
   "source": [
    "## Deployment\n",
    "\n",
    "Deployment can be interpreted in a couple of ways:\n",
    "- Deploying your model into production to automate tasks or make predictions.  \n",
    "- Communicate for others to take action.\n",
    "\n",
    "In this context, we do not need to deploy any models since we are using descriptive statistics to answer our questions. However, we can communicate our work to a wider audience. We can do this by creating a blog post that outlines our processes and findings"
   ]
  },
  {
   "cell_type": "code",
   "execution_count": 191,
   "metadata": {},
   "outputs": [],
   "source": []
  },
  {
   "cell_type": "code",
   "execution_count": null,
   "metadata": {},
   "outputs": [],
   "source": []
  },
  {
   "cell_type": "code",
   "execution_count": null,
   "metadata": {},
   "outputs": [],
   "source": []
  },
  {
   "cell_type": "code",
   "execution_count": null,
   "metadata": {},
   "outputs": [],
   "source": []
  },
  {
   "cell_type": "code",
   "execution_count": null,
   "metadata": {},
   "outputs": [],
   "source": []
  },
  {
   "cell_type": "code",
   "execution_count": null,
   "metadata": {},
   "outputs": [],
   "source": []
  }
 ],
 "metadata": {
  "kernelspec": {
   "display_name": "Python 3",
   "language": "python",
   "name": "python3"
  },
  "language_info": {
   "codemirror_mode": {
    "name": "ipython",
    "version": 3
   },
   "file_extension": ".py",
   "mimetype": "text/x-python",
   "name": "python",
   "nbconvert_exporter": "python",
   "pygments_lexer": "ipython3",
   "version": "3.7.4"
  }
 },
 "nbformat": 4,
 "nbformat_minor": 4
}
